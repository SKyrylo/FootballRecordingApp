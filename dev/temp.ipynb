{
 "cells": [
  {
   "cell_type": "code",
   "execution_count": 87,
   "id": "92370906",
   "metadata": {},
   "outputs": [
    {
     "data": {
      "text/html": [
       "<div>\n",
       "<style scoped>\n",
       "    .dataframe tbody tr th:only-of-type {\n",
       "        vertical-align: middle;\n",
       "    }\n",
       "\n",
       "    .dataframe tbody tr th {\n",
       "        vertical-align: top;\n",
       "    }\n",
       "\n",
       "    .dataframe thead th {\n",
       "        text-align: right;\n",
       "    }\n",
       "</style>\n",
       "<table border=\"1\" class=\"dataframe\">\n",
       "  <thead>\n",
       "    <tr style=\"text-align: right;\">\n",
       "      <th></th>\n",
       "      <th>VidInfo</th>\n",
       "      <th>Action</th>\n",
       "      <th>StartFrame</th>\n",
       "      <th>EndFrame</th>\n",
       "    </tr>\n",
       "  </thead>\n",
       "  <tbody>\n",
       "    <tr>\n",
       "      <th>0</th>\n",
       "      <td>vid1</td>\n",
       "      <td>pass</td>\n",
       "      <td>347</td>\n",
       "      <td>370</td>\n",
       "    </tr>\n",
       "    <tr>\n",
       "      <th>1</th>\n",
       "      <td>vid1</td>\n",
       "      <td>goal</td>\n",
       "      <td>583</td>\n",
       "      <td>654</td>\n",
       "    </tr>\n",
       "    <tr>\n",
       "      <th>2</th>\n",
       "      <td>vid1</td>\n",
       "      <td>pass</td>\n",
       "      <td>1051</td>\n",
       "      <td>1096</td>\n",
       "    </tr>\n",
       "    <tr>\n",
       "      <th>3</th>\n",
       "      <td>vid1</td>\n",
       "      <td>pass</td>\n",
       "      <td>1910</td>\n",
       "      <td>1944</td>\n",
       "    </tr>\n",
       "    <tr>\n",
       "      <th>4</th>\n",
       "      <td>vid1</td>\n",
       "      <td>pass</td>\n",
       "      <td>2748</td>\n",
       "      <td>2796</td>\n",
       "    </tr>\n",
       "    <tr>\n",
       "      <th>...</th>\n",
       "      <td>...</td>\n",
       "      <td>...</td>\n",
       "      <td>...</td>\n",
       "      <td>...</td>\n",
       "    </tr>\n",
       "    <tr>\n",
       "      <th>2552</th>\n",
       "      <td>yt3</td>\n",
       "      <td>pass</td>\n",
       "      <td>67343</td>\n",
       "      <td>67428</td>\n",
       "    </tr>\n",
       "    <tr>\n",
       "      <th>2553</th>\n",
       "      <td>yt3</td>\n",
       "      <td>pass</td>\n",
       "      <td>67568</td>\n",
       "      <td>67623</td>\n",
       "    </tr>\n",
       "    <tr>\n",
       "      <th>2554</th>\n",
       "      <td>yt3</td>\n",
       "      <td>pass</td>\n",
       "      <td>67950</td>\n",
       "      <td>67977</td>\n",
       "    </tr>\n",
       "    <tr>\n",
       "      <th>2555</th>\n",
       "      <td>yt3</td>\n",
       "      <td>pass</td>\n",
       "      <td>70392</td>\n",
       "      <td>70432</td>\n",
       "    </tr>\n",
       "    <tr>\n",
       "      <th>2556</th>\n",
       "      <td>yt3</td>\n",
       "      <td>goal</td>\n",
       "      <td>70784</td>\n",
       "      <td>70824</td>\n",
       "    </tr>\n",
       "  </tbody>\n",
       "</table>\n",
       "<p>2557 rows × 4 columns</p>\n",
       "</div>"
      ],
      "text/plain": [
       "     VidInfo Action  StartFrame  EndFrame\n",
       "0       vid1   pass         347       370\n",
       "1       vid1   goal         583       654\n",
       "2       vid1   pass        1051      1096\n",
       "3       vid1   pass        1910      1944\n",
       "4       vid1   pass        2748      2796\n",
       "...      ...    ...         ...       ...\n",
       "2552     yt3   pass       67343     67428\n",
       "2553     yt3   pass       67568     67623\n",
       "2554     yt3   pass       67950     67977\n",
       "2555     yt3   pass       70392     70432\n",
       "2556     yt3   goal       70784     70824\n",
       "\n",
       "[2557 rows x 4 columns]"
      ]
     },
     "execution_count": 87,
     "metadata": {},
     "output_type": "execute_result"
    }
   ],
   "source": [
    "import pandas as pd\n",
    "\n",
    "df = pd.read_csv(\"/home/kyrylo/bucket-72907_mount/football-files/VideoActionTimeStamps.csv\")\n",
    "df"
   ]
  },
  {
   "cell_type": "code",
   "execution_count": 88,
   "id": "000ecb10",
   "metadata": {},
   "outputs": [
    {
     "data": {
      "text/html": [
       "<div>\n",
       "<style scoped>\n",
       "    .dataframe tbody tr th:only-of-type {\n",
       "        vertical-align: middle;\n",
       "    }\n",
       "\n",
       "    .dataframe tbody tr th {\n",
       "        vertical-align: top;\n",
       "    }\n",
       "\n",
       "    .dataframe thead th {\n",
       "        text-align: right;\n",
       "    }\n",
       "</style>\n",
       "<table border=\"1\" class=\"dataframe\">\n",
       "  <thead>\n",
       "    <tr style=\"text-align: right;\">\n",
       "      <th></th>\n",
       "      <th>VidInfo</th>\n",
       "      <th>Action</th>\n",
       "      <th>StartFrame</th>\n",
       "      <th>EndFrame</th>\n",
       "    </tr>\n",
       "  </thead>\n",
       "  <tbody>\n",
       "    <tr>\n",
       "      <th>0</th>\n",
       "      <td>vid1</td>\n",
       "      <td>pass</td>\n",
       "      <td>347</td>\n",
       "      <td>370</td>\n",
       "    </tr>\n",
       "    <tr>\n",
       "      <th>1</th>\n",
       "      <td>vid1</td>\n",
       "      <td>goal</td>\n",
       "      <td>583</td>\n",
       "      <td>654</td>\n",
       "    </tr>\n",
       "    <tr>\n",
       "      <th>2</th>\n",
       "      <td>vid1</td>\n",
       "      <td>pass</td>\n",
       "      <td>1051</td>\n",
       "      <td>1096</td>\n",
       "    </tr>\n",
       "    <tr>\n",
       "      <th>3</th>\n",
       "      <td>vid1</td>\n",
       "      <td>pass</td>\n",
       "      <td>1910</td>\n",
       "      <td>1944</td>\n",
       "    </tr>\n",
       "    <tr>\n",
       "      <th>4</th>\n",
       "      <td>vid1</td>\n",
       "      <td>pass</td>\n",
       "      <td>2748</td>\n",
       "      <td>2796</td>\n",
       "    </tr>\n",
       "    <tr>\n",
       "      <th>...</th>\n",
       "      <td>...</td>\n",
       "      <td>...</td>\n",
       "      <td>...</td>\n",
       "      <td>...</td>\n",
       "    </tr>\n",
       "    <tr>\n",
       "      <th>2552</th>\n",
       "      <td>yt3</td>\n",
       "      <td>pass</td>\n",
       "      <td>67343</td>\n",
       "      <td>67428</td>\n",
       "    </tr>\n",
       "    <tr>\n",
       "      <th>2553</th>\n",
       "      <td>yt3</td>\n",
       "      <td>pass</td>\n",
       "      <td>67568</td>\n",
       "      <td>67623</td>\n",
       "    </tr>\n",
       "    <tr>\n",
       "      <th>2554</th>\n",
       "      <td>yt3</td>\n",
       "      <td>pass</td>\n",
       "      <td>67950</td>\n",
       "      <td>67977</td>\n",
       "    </tr>\n",
       "    <tr>\n",
       "      <th>2555</th>\n",
       "      <td>yt3</td>\n",
       "      <td>pass</td>\n",
       "      <td>70392</td>\n",
       "      <td>70432</td>\n",
       "    </tr>\n",
       "    <tr>\n",
       "      <th>2556</th>\n",
       "      <td>yt3</td>\n",
       "      <td>goal</td>\n",
       "      <td>70784</td>\n",
       "      <td>70824</td>\n",
       "    </tr>\n",
       "  </tbody>\n",
       "</table>\n",
       "<p>2484 rows × 4 columns</p>\n",
       "</div>"
      ],
      "text/plain": [
       "     VidInfo Action  StartFrame  EndFrame\n",
       "0       vid1   pass         347       370\n",
       "1       vid1   goal         583       654\n",
       "2       vid1   pass        1051      1096\n",
       "3       vid1   pass        1910      1944\n",
       "4       vid1   pass        2748      2796\n",
       "...      ...    ...         ...       ...\n",
       "2552     yt3   pass       67343     67428\n",
       "2553     yt3   pass       67568     67623\n",
       "2554     yt3   pass       67950     67977\n",
       "2555     yt3   pass       70392     70432\n",
       "2556     yt3   goal       70784     70824\n",
       "\n",
       "[2484 rows x 4 columns]"
      ]
     },
     "execution_count": 88,
     "metadata": {},
     "output_type": "execute_result"
    }
   ],
   "source": [
    "df.drop(df[df.Action == 'assist'].index, axis=0, inplace=True)\n",
    "df"
   ]
  },
  {
   "cell_type": "code",
   "execution_count": 89,
   "id": "64464ab3",
   "metadata": {},
   "outputs": [
    {
     "data": {
      "text/html": [
       "<div>\n",
       "<style scoped>\n",
       "    .dataframe tbody tr th:only-of-type {\n",
       "        vertical-align: middle;\n",
       "    }\n",
       "\n",
       "    .dataframe tbody tr th {\n",
       "        vertical-align: top;\n",
       "    }\n",
       "\n",
       "    .dataframe thead th {\n",
       "        text-align: right;\n",
       "    }\n",
       "</style>\n",
       "<table border=\"1\" class=\"dataframe\">\n",
       "  <thead>\n",
       "    <tr style=\"text-align: right;\">\n",
       "      <th></th>\n",
       "      <th>VidInfo</th>\n",
       "      <th>Action</th>\n",
       "      <th>StartFrame</th>\n",
       "      <th>EndFrame</th>\n",
       "      <th>Len</th>\n",
       "    </tr>\n",
       "  </thead>\n",
       "  <tbody>\n",
       "    <tr>\n",
       "      <th>0</th>\n",
       "      <td>vid1</td>\n",
       "      <td>pass</td>\n",
       "      <td>347</td>\n",
       "      <td>370</td>\n",
       "      <td>24</td>\n",
       "    </tr>\n",
       "    <tr>\n",
       "      <th>1</th>\n",
       "      <td>vid1</td>\n",
       "      <td>goal</td>\n",
       "      <td>583</td>\n",
       "      <td>654</td>\n",
       "      <td>72</td>\n",
       "    </tr>\n",
       "    <tr>\n",
       "      <th>2</th>\n",
       "      <td>vid1</td>\n",
       "      <td>pass</td>\n",
       "      <td>1051</td>\n",
       "      <td>1096</td>\n",
       "      <td>46</td>\n",
       "    </tr>\n",
       "    <tr>\n",
       "      <th>3</th>\n",
       "      <td>vid1</td>\n",
       "      <td>pass</td>\n",
       "      <td>1910</td>\n",
       "      <td>1944</td>\n",
       "      <td>35</td>\n",
       "    </tr>\n",
       "    <tr>\n",
       "      <th>4</th>\n",
       "      <td>vid1</td>\n",
       "      <td>pass</td>\n",
       "      <td>2748</td>\n",
       "      <td>2796</td>\n",
       "      <td>49</td>\n",
       "    </tr>\n",
       "    <tr>\n",
       "      <th>...</th>\n",
       "      <td>...</td>\n",
       "      <td>...</td>\n",
       "      <td>...</td>\n",
       "      <td>...</td>\n",
       "      <td>...</td>\n",
       "    </tr>\n",
       "    <tr>\n",
       "      <th>2552</th>\n",
       "      <td>yt3</td>\n",
       "      <td>pass</td>\n",
       "      <td>67343</td>\n",
       "      <td>67428</td>\n",
       "      <td>86</td>\n",
       "    </tr>\n",
       "    <tr>\n",
       "      <th>2553</th>\n",
       "      <td>yt3</td>\n",
       "      <td>pass</td>\n",
       "      <td>67568</td>\n",
       "      <td>67623</td>\n",
       "      <td>56</td>\n",
       "    </tr>\n",
       "    <tr>\n",
       "      <th>2554</th>\n",
       "      <td>yt3</td>\n",
       "      <td>pass</td>\n",
       "      <td>67950</td>\n",
       "      <td>67977</td>\n",
       "      <td>28</td>\n",
       "    </tr>\n",
       "    <tr>\n",
       "      <th>2555</th>\n",
       "      <td>yt3</td>\n",
       "      <td>pass</td>\n",
       "      <td>70392</td>\n",
       "      <td>70432</td>\n",
       "      <td>41</td>\n",
       "    </tr>\n",
       "    <tr>\n",
       "      <th>2556</th>\n",
       "      <td>yt3</td>\n",
       "      <td>goal</td>\n",
       "      <td>70784</td>\n",
       "      <td>70824</td>\n",
       "      <td>41</td>\n",
       "    </tr>\n",
       "  </tbody>\n",
       "</table>\n",
       "<p>2484 rows × 5 columns</p>\n",
       "</div>"
      ],
      "text/plain": [
       "     VidInfo Action  StartFrame  EndFrame  Len\n",
       "0       vid1   pass         347       370   24\n",
       "1       vid1   goal         583       654   72\n",
       "2       vid1   pass        1051      1096   46\n",
       "3       vid1   pass        1910      1944   35\n",
       "4       vid1   pass        2748      2796   49\n",
       "...      ...    ...         ...       ...  ...\n",
       "2552     yt3   pass       67343     67428   86\n",
       "2553     yt3   pass       67568     67623   56\n",
       "2554     yt3   pass       67950     67977   28\n",
       "2555     yt3   pass       70392     70432   41\n",
       "2556     yt3   goal       70784     70824   41\n",
       "\n",
       "[2484 rows x 5 columns]"
      ]
     },
     "execution_count": 89,
     "metadata": {},
     "output_type": "execute_result"
    }
   ],
   "source": [
    "df['Len'] = df.EndFrame - df.StartFrame + 1\n",
    "df"
   ]
  },
  {
   "cell_type": "code",
   "execution_count": 90,
   "id": "4eb79284",
   "metadata": {},
   "outputs": [
    {
     "data": {
      "text/plain": [
       "Action\n",
       "goal      49.385714\n",
       "pass      55.620246\n",
       "save      37.398734\n",
       "tackle    30.012048\n",
       "Name: Len, dtype: float64"
      ]
     },
     "execution_count": 90,
     "metadata": {},
     "output_type": "execute_result"
    }
   ],
   "source": [
    "df.groupby(['Action']).Len.mean()"
   ]
  },
  {
   "cell_type": "code",
   "execution_count": 91,
   "id": "fd3a93ed",
   "metadata": {},
   "outputs": [
    {
     "data": {
      "text/plain": [
       "Action\n",
       "goal      159\n",
       "pass      211\n",
       "save      156\n",
       "tackle    101\n",
       "Name: Len, dtype: int64"
      ]
     },
     "execution_count": 91,
     "metadata": {},
     "output_type": "execute_result"
    }
   ],
   "source": [
    "df.groupby(['Action']).Len.max()"
   ]
  },
  {
   "cell_type": "code",
   "execution_count": 70,
   "id": "2215dcf1",
   "metadata": {},
   "outputs": [],
   "source": [
    "# len(df[df.Len > 100]) -- 120\n",
    "# df.Action.value_counts() # passes 1500 - tackles x6"
   ]
  },
  {
   "cell_type": "code",
   "execution_count": 92,
   "id": "be45c1a6",
   "metadata": {},
   "outputs": [
    {
     "data": {
      "text/plain": [
       "1565"
      ]
     },
     "execution_count": 92,
     "metadata": {},
     "output_type": "execute_result"
    }
   ],
   "source": [
    "rows = []\n",
    "for vid in df.VidInfo.unique():\n",
    "    df2 = df[df.VidInfo == vid].copy()\n",
    "    counter = 0\n",
    "    for i in range(len(df2)):\n",
    "        if i < len(df2) - 1:\n",
    "            if (df2.iloc[i+1].StartFrame - df2.iloc[i].EndFrame > df2[df2.Action == df2.iloc[i].Action].Len.mean() + 11) & (df2.iloc[i+1].VidInfo == df2.iloc[i].VidInfo):\n",
    "                mean = df2[df2.Action == df2.iloc[i].Action].Len.mean()\n",
    "                vidname = df2.iloc[i].VidInfo\n",
    "                startframe = df2.iloc[i].EndFrame+5\n",
    "                endframe = startframe+round(mean)\n",
    "\n",
    "                row = [vidname, 'none', startframe, endframe, endframe-startframe]\n",
    "                rows.append(row)\n",
    "                if df2.iloc[i+1].StartFrame - endframe > mean + 4:\n",
    "                    startframe = endframe + 2\n",
    "                    endframe = startframe + round(mean)\n",
    "                    row = [vidname, 'none', startframe, endframe, endframe-startframe]\n",
    "                    rows.append(row)\n",
    "                    counter += 1\n",
    "                if df2.iloc[i+1].StartFrame - endframe > mean + 4:\n",
    "                    startframe = endframe + 2\n",
    "                    endframe = startframe + round(mean)\n",
    "                    row = [vidname, 'none', startframe, endframe, endframe-startframe]\n",
    "                    rows.append(row)\n",
    "            counter += 1\n",
    "        if counter >= 155:\n",
    "            break\n",
    "len(rows)"
   ]
  },
  {
   "cell_type": "code",
   "execution_count": 93,
   "id": "b2421c8a",
   "metadata": {},
   "outputs": [
    {
     "data": {
      "text/plain": [
       "4049"
      ]
     },
     "execution_count": 93,
     "metadata": {},
     "output_type": "execute_result"
    }
   ],
   "source": [
    "df = pd.concat([df, pd.DataFrame(rows, columns=df.columns)], ignore_index=True)\n",
    "len(df)"
   ]
  },
  {
   "cell_type": "code",
   "execution_count": 94,
   "id": "4320b312",
   "metadata": {},
   "outputs": [
    {
     "data": {
      "text/plain": [
       "3913"
      ]
     },
     "execution_count": 94,
     "metadata": {},
     "output_type": "execute_result"
    }
   ],
   "source": [
    "df.drop(df[df.Len > 100].index, inplace=True)\n",
    "len(df)"
   ]
  },
  {
   "cell_type": "code",
   "execution_count": 95,
   "id": "c848ceb0",
   "metadata": {},
   "outputs": [
    {
     "data": {
      "text/plain": [
       "Action\n",
       "pass      1747\n",
       "none      1565\n",
       "tackle     248\n",
       "goal       199\n",
       "save       154\n",
       "Name: count, dtype: int64"
      ]
     },
     "execution_count": 95,
     "metadata": {},
     "output_type": "execute_result"
    }
   ],
   "source": [
    "df.Action.value_counts()"
   ]
  },
  {
   "cell_type": "code",
   "execution_count": 96,
   "id": "1c02a23a",
   "metadata": {},
   "outputs": [
    {
     "data": {
      "text/plain": [
       "Action\n",
       "pass      1500\n",
       "none      1500\n",
       "tackle     248\n",
       "goal       199\n",
       "save       154\n",
       "Name: count, dtype: int64"
      ]
     },
     "execution_count": 96,
     "metadata": {},
     "output_type": "execute_result"
    }
   ],
   "source": [
    "import numpy as np\n",
    "\n",
    "remove_pass = 247\n",
    "remove_none = 65\n",
    "\n",
    "drop_pass = list(np.random.choice(df[df.Action == 'pass'].index, remove_pass, replace=False))\n",
    "drop_none = list(np.random.choice(df[df.Action == 'none'].index, remove_none, replace=False))\n",
    "\n",
    "# print(len(drop_none.extend(drop_pass)))\n",
    "for el in drop_none:\n",
    "    drop_pass.append(el)\n",
    "\n",
    "df.drop(drop_pass, inplace=True)\n",
    "df.Action.value_counts()"
   ]
  },
  {
   "cell_type": "code",
   "execution_count": 97,
   "id": "1b3f92e2",
   "metadata": {},
   "outputs": [
    {
     "data": {
      "text/html": [
       "<div>\n",
       "<style scoped>\n",
       "    .dataframe tbody tr th:only-of-type {\n",
       "        vertical-align: middle;\n",
       "    }\n",
       "\n",
       "    .dataframe tbody tr th {\n",
       "        vertical-align: top;\n",
       "    }\n",
       "\n",
       "    .dataframe thead th {\n",
       "        text-align: right;\n",
       "    }\n",
       "</style>\n",
       "<table border=\"1\" class=\"dataframe\">\n",
       "  <thead>\n",
       "    <tr style=\"text-align: right;\">\n",
       "      <th></th>\n",
       "      <th>VidInfo</th>\n",
       "      <th>Action</th>\n",
       "      <th>StartFrame</th>\n",
       "      <th>EndFrame</th>\n",
       "      <th>Len</th>\n",
       "    </tr>\n",
       "  </thead>\n",
       "  <tbody>\n",
       "    <tr>\n",
       "      <th>2484</th>\n",
       "      <td>vid1</td>\n",
       "      <td>none</td>\n",
       "      <td>375</td>\n",
       "      <td>421</td>\n",
       "      <td>46</td>\n",
       "    </tr>\n",
       "    <tr>\n",
       "      <th>2485</th>\n",
       "      <td>vid1</td>\n",
       "      <td>none</td>\n",
       "      <td>423</td>\n",
       "      <td>469</td>\n",
       "      <td>46</td>\n",
       "    </tr>\n",
       "    <tr>\n",
       "      <th>2486</th>\n",
       "      <td>vid1</td>\n",
       "      <td>none</td>\n",
       "      <td>471</td>\n",
       "      <td>517</td>\n",
       "      <td>46</td>\n",
       "    </tr>\n",
       "    <tr>\n",
       "      <th>2487</th>\n",
       "      <td>vid1</td>\n",
       "      <td>none</td>\n",
       "      <td>659</td>\n",
       "      <td>701</td>\n",
       "      <td>42</td>\n",
       "    </tr>\n",
       "    <tr>\n",
       "      <th>2488</th>\n",
       "      <td>vid1</td>\n",
       "      <td>none</td>\n",
       "      <td>703</td>\n",
       "      <td>745</td>\n",
       "      <td>42</td>\n",
       "    </tr>\n",
       "    <tr>\n",
       "      <th>...</th>\n",
       "      <td>...</td>\n",
       "      <td>...</td>\n",
       "      <td>...</td>\n",
       "      <td>...</td>\n",
       "      <td>...</td>\n",
       "    </tr>\n",
       "    <tr>\n",
       "      <th>4044</th>\n",
       "      <td>yt3</td>\n",
       "      <td>none</td>\n",
       "      <td>30684</td>\n",
       "      <td>30707</td>\n",
       "      <td>23</td>\n",
       "    </tr>\n",
       "    <tr>\n",
       "      <th>4045</th>\n",
       "      <td>yt3</td>\n",
       "      <td>none</td>\n",
       "      <td>30709</td>\n",
       "      <td>30732</td>\n",
       "      <td>23</td>\n",
       "    </tr>\n",
       "    <tr>\n",
       "      <th>4046</th>\n",
       "      <td>yt3</td>\n",
       "      <td>none</td>\n",
       "      <td>31230</td>\n",
       "      <td>31275</td>\n",
       "      <td>45</td>\n",
       "    </tr>\n",
       "    <tr>\n",
       "      <th>4047</th>\n",
       "      <td>yt3</td>\n",
       "      <td>none</td>\n",
       "      <td>31277</td>\n",
       "      <td>31322</td>\n",
       "      <td>45</td>\n",
       "    </tr>\n",
       "    <tr>\n",
       "      <th>4048</th>\n",
       "      <td>yt3</td>\n",
       "      <td>none</td>\n",
       "      <td>31324</td>\n",
       "      <td>31369</td>\n",
       "      <td>45</td>\n",
       "    </tr>\n",
       "  </tbody>\n",
       "</table>\n",
       "<p>1500 rows × 5 columns</p>\n",
       "</div>"
      ],
      "text/plain": [
       "     VidInfo Action  StartFrame  EndFrame  Len\n",
       "2484    vid1   none         375       421   46\n",
       "2485    vid1   none         423       469   46\n",
       "2486    vid1   none         471       517   46\n",
       "2487    vid1   none         659       701   42\n",
       "2488    vid1   none         703       745   42\n",
       "...      ...    ...         ...       ...  ...\n",
       "4044     yt3   none       30684     30707   23\n",
       "4045     yt3   none       30709     30732   23\n",
       "4046     yt3   none       31230     31275   45\n",
       "4047     yt3   none       31277     31322   45\n",
       "4048     yt3   none       31324     31369   45\n",
       "\n",
       "[1500 rows x 5 columns]"
      ]
     },
     "execution_count": 97,
     "metadata": {},
     "output_type": "execute_result"
    }
   ],
   "source": [
    "df[df.Action == 'none']"
   ]
  },
  {
   "cell_type": "code",
   "execution_count": 98,
   "id": "7e04b6fe",
   "metadata": {},
   "outputs": [
    {
     "name": "stdout",
     "output_type": "stream",
     "text": [
      "169\n",
      "172\n",
      "194\n",
      "139\n",
      "178\n",
      "152\n",
      "154\n",
      "161\n",
      "181\n",
      "1500\n"
     ]
    }
   ],
   "source": [
    "num = 0\n",
    "for i in df.VidInfo.unique():\n",
    "    amount = len(df[(df.Action == 'none') & (df.VidInfo == i)])\n",
    "    print(amount)\n",
    "    num += amount\n",
    "print(num)"
   ]
  },
  {
   "cell_type": "code",
   "execution_count": 105,
   "id": "535b8ac4",
   "metadata": {},
   "outputs": [
    {
     "data": {
      "text/plain": [
       "Action\n",
       "pass      1500\n",
       "none      1500\n",
       "tackle     248\n",
       "goal       199\n",
       "save       154\n",
       "Name: count, dtype: int64"
      ]
     },
     "execution_count": 105,
     "metadata": {},
     "output_type": "execute_result"
    }
   ],
   "source": [
    "df.Action.value_counts()"
   ]
  },
  {
   "cell_type": "code",
   "execution_count": 1,
   "id": "787280e5",
   "metadata": {},
   "outputs": [
    {
     "name": "stdout",
     "output_type": "stream",
     "text": [
      "goal-1592\n",
      "pass-1500\n",
      "save-1540\n",
      "tackle-1736\n",
      "none-1500\n",
      "7868\n"
     ]
    }
   ],
   "source": [
    "import os\n",
    "num = 0\n",
    "for folder in os.listdir('/home/kyrylo/dev/clips/clips_dataset'):\n",
    "    amount = len(os.listdir(f'/home/kyrylo/dev/clips/clips_dataset/{folder}'))\n",
    "    print(f\"{folder}-{amount}\")\n",
    "    num += amount\n",
    "\n",
    "print(num)"
   ]
  },
  {
   "cell_type": "code",
   "execution_count": 53,
   "id": "f524949d",
   "metadata": {},
   "outputs": [
    {
     "data": {
      "text/plain": [
       "VidInfo\n",
       "vid3    194\n",
       "yt3     181\n",
       "vid5    178\n",
       "vid2    172\n",
       "vid1    169\n",
       "yt5     161\n",
       "yt2     154\n",
       "yt1     152\n",
       "vid4    139\n",
       "Name: count, dtype: int64"
      ]
     },
     "execution_count": 53,
     "metadata": {},
     "output_type": "execute_result"
    }
   ],
   "source": [
    "import pandas as pd\n",
    "\n",
    "df = pd.read_csv(\"actions.csv\")\n",
    "df[(df.Action == 'none')].VidInfo.value_counts()"
   ]
  },
  {
   "cell_type": "code",
   "execution_count": null,
   "id": "d8261fd3",
   "metadata": {},
   "outputs": [],
   "source": [
    "# df.to_csv(\"/home/kyrylo/dev/actions.csv\")"
   ]
  },
  {
   "cell_type": "code",
   "execution_count": 17,
   "id": "70d264ab",
   "metadata": {},
   "outputs": [
    {
     "data": {
      "text/plain": [
       "Action\n",
       "pass      1500\n",
       "none      1500\n",
       "tackle     248\n",
       "goal       199\n",
       "save       154\n",
       "Name: count, dtype: int64"
      ]
     },
     "execution_count": 17,
     "metadata": {},
     "output_type": "execute_result"
    }
   ],
   "source": [
    "import pandas as pd\n",
    "\n",
    "df = pd.read_csv('actions.csv')\n",
    "df.Action.value_counts()"
   ]
  },
  {
   "cell_type": "code",
   "execution_count": 18,
   "id": "e8788e2d",
   "metadata": {},
   "outputs": [
    {
     "data": {
      "text/plain": [
       "Index(['VidInfo', 'Action', 'StartFrame', 'EndFrame', 'Len'], dtype='object')"
      ]
     },
     "execution_count": 18,
     "metadata": {},
     "output_type": "execute_result"
    }
   ],
   "source": [
    "df.drop(df.columns[0], axis=1, inplace=True)\n",
    "df.columns"
   ]
  },
  {
   "cell_type": "code",
   "execution_count": 20,
   "id": "9b75d73b",
   "metadata": {},
   "outputs": [
    {
     "data": {
      "text/plain": [
       "2101"
      ]
     },
     "execution_count": 20,
     "metadata": {},
     "output_type": "execute_result"
    }
   ],
   "source": [
    "df = df[df.Action != 'none']\n",
    "len(df)"
   ]
  },
  {
   "cell_type": "code",
   "execution_count": 25,
   "id": "dcf60529",
   "metadata": {},
   "outputs": [
    {
     "data": {
      "text/plain": [
       "4889"
      ]
     },
     "execution_count": 25,
     "metadata": {},
     "output_type": "execute_result"
    }
   ],
   "source": [
    "rows = []\n",
    "for vid in df.VidInfo.unique():\n",
    "    df2 = df[df.VidInfo == vid].copy()\n",
    "    \n",
    "    for i in range(len(df2)):\n",
    "        if i < len(df2) - 1:\n",
    "            endframe = df2.iloc[i].EndFrame\n",
    "            startframe = df2.iloc[i+1].StartFrame\n",
    "            counter = 0\n",
    "            while startframe - endframe > 103:\n",
    "                vidname = df2.iloc[i].VidInfo\n",
    "                start = endframe + 1\n",
    "                end = start + 99\n",
    "\n",
    "                row = [vidname, 'none', start, end, end-start+1]\n",
    "                rows.append(row)\n",
    "                counter += 1\n",
    "                if counter >= 6:\n",
    "                    break\n",
    "                \n",
    "                endframe = end + 2\n",
    "\n",
    "len(rows)"
   ]
  },
  {
   "cell_type": "code",
   "execution_count": 29,
   "id": "abe46092",
   "metadata": {},
   "outputs": [
    {
     "data": {
      "text/plain": [
       "['vid1', 'none', np.int64(1505), np.int64(1604), np.int64(100)]"
      ]
     },
     "execution_count": 29,
     "metadata": {},
     "output_type": "execute_result"
    }
   ],
   "source": [
    "rows[9]"
   ]
  },
  {
   "cell_type": "code",
   "execution_count": 27,
   "id": "a86bdf43",
   "metadata": {},
   "outputs": [
    {
     "data": {
      "text/plain": [
       "Action\n",
       "pass      1500\n",
       "tackle     248\n",
       "goal       199\n",
       "save       154\n",
       "Name: count, dtype: int64"
      ]
     },
     "execution_count": 27,
     "metadata": {},
     "output_type": "execute_result"
    }
   ],
   "source": [
    "df.Action.value_counts()"
   ]
  },
  {
   "cell_type": "code",
   "execution_count": 32,
   "id": "d2f4e196",
   "metadata": {},
   "outputs": [],
   "source": [
    "df2 = pd.DataFrame(rows, columns=['VidInfo', 'Action', 'StartFrame', 'EndFrame', 'Len'])"
   ]
  },
  {
   "cell_type": "code",
   "execution_count": 34,
   "id": "06121a55",
   "metadata": {},
   "outputs": [
    {
     "data": {
      "text/plain": [
       "VidInfo\n",
       "yt2     1196\n",
       "yt1      713\n",
       "yt5      584\n",
       "vid4     547\n",
       "vid5     469\n",
       "yt3      422\n",
       "vid2     399\n",
       "vid3     317\n",
       "vid1     242\n",
       "Name: count, dtype: int64"
      ]
     },
     "execution_count": 34,
     "metadata": {},
     "output_type": "execute_result"
    }
   ],
   "source": [
    "df2.VidInfo.value_counts()"
   ]
  },
  {
   "cell_type": "code",
   "execution_count": 38,
   "id": "e4dd7b26",
   "metadata": {},
   "outputs": [
    {
     "data": {
      "text/plain": [
       "1503"
      ]
     },
     "execution_count": 38,
     "metadata": {},
     "output_type": "execute_result"
    }
   ],
   "source": [
    "import numpy as np\n",
    "\n",
    "leave = 167\n",
    "# remove_yt2 = 247\n",
    "# remove_none = 65\n",
    "for vid in df2.VidInfo.unique():\n",
    "    to_del = len(df2[df2.VidInfo == vid]) - leave\n",
    "    drop = list(np.random.choice(df2[df2.VidInfo == vid].index, to_del, replace=False))\n",
    "    df2.drop(drop, inplace=True)\n",
    "\n",
    "len(df2)"
   ]
  },
  {
   "cell_type": "code",
   "execution_count": 39,
   "id": "7327834a",
   "metadata": {},
   "outputs": [
    {
     "data": {
      "text/plain": [
       "VidInfo\n",
       "vid1    167\n",
       "vid2    167\n",
       "vid3    167\n",
       "vid4    167\n",
       "vid5    167\n",
       "yt1     167\n",
       "yt2     167\n",
       "yt5     167\n",
       "yt3     167\n",
       "Name: count, dtype: int64"
      ]
     },
     "execution_count": 39,
     "metadata": {},
     "output_type": "execute_result"
    }
   ],
   "source": [
    "df2.VidInfo.value_counts()"
   ]
  },
  {
   "cell_type": "code",
   "execution_count": 41,
   "id": "36edc64a",
   "metadata": {},
   "outputs": [
    {
     "data": {
      "text/html": [
       "<div>\n",
       "<style scoped>\n",
       "    .dataframe tbody tr th:only-of-type {\n",
       "        vertical-align: middle;\n",
       "    }\n",
       "\n",
       "    .dataframe tbody tr th {\n",
       "        vertical-align: top;\n",
       "    }\n",
       "\n",
       "    .dataframe thead th {\n",
       "        text-align: right;\n",
       "    }\n",
       "</style>\n",
       "<table border=\"1\" class=\"dataframe\">\n",
       "  <thead>\n",
       "    <tr style=\"text-align: right;\">\n",
       "      <th></th>\n",
       "      <th>VidInfo</th>\n",
       "      <th>Action</th>\n",
       "      <th>StartFrame</th>\n",
       "      <th>EndFrame</th>\n",
       "      <th>Len</th>\n",
       "    </tr>\n",
       "  </thead>\n",
       "  <tbody>\n",
       "    <tr>\n",
       "      <th>921</th>\n",
       "      <td>vid3</td>\n",
       "      <td>none</td>\n",
       "      <td>87266</td>\n",
       "      <td>87365</td>\n",
       "      <td>100</td>\n",
       "    </tr>\n",
       "    <tr>\n",
       "      <th>924</th>\n",
       "      <td>vid3</td>\n",
       "      <td>none</td>\n",
       "      <td>87838</td>\n",
       "      <td>87937</td>\n",
       "      <td>100</td>\n",
       "    </tr>\n",
       "    <tr>\n",
       "      <th>927</th>\n",
       "      <td>vid3</td>\n",
       "      <td>none</td>\n",
       "      <td>88144</td>\n",
       "      <td>88243</td>\n",
       "      <td>100</td>\n",
       "    </tr>\n",
       "    <tr>\n",
       "      <th>930</th>\n",
       "      <td>vid3</td>\n",
       "      <td>none</td>\n",
       "      <td>88959</td>\n",
       "      <td>89058</td>\n",
       "      <td>100</td>\n",
       "    </tr>\n",
       "    <tr>\n",
       "      <th>934</th>\n",
       "      <td>vid3</td>\n",
       "      <td>none</td>\n",
       "      <td>94092</td>\n",
       "      <td>94191</td>\n",
       "      <td>100</td>\n",
       "    </tr>\n",
       "    <tr>\n",
       "      <th>935</th>\n",
       "      <td>vid3</td>\n",
       "      <td>none</td>\n",
       "      <td>94194</td>\n",
       "      <td>94293</td>\n",
       "      <td>100</td>\n",
       "    </tr>\n",
       "    <tr>\n",
       "      <th>937</th>\n",
       "      <td>vid3</td>\n",
       "      <td>none</td>\n",
       "      <td>94468</td>\n",
       "      <td>94567</td>\n",
       "      <td>100</td>\n",
       "    </tr>\n",
       "    <tr>\n",
       "      <th>938</th>\n",
       "      <td>vid3</td>\n",
       "      <td>none</td>\n",
       "      <td>94736</td>\n",
       "      <td>94835</td>\n",
       "      <td>100</td>\n",
       "    </tr>\n",
       "    <tr>\n",
       "      <th>940</th>\n",
       "      <td>vid3</td>\n",
       "      <td>none</td>\n",
       "      <td>94940</td>\n",
       "      <td>95039</td>\n",
       "      <td>100</td>\n",
       "    </tr>\n",
       "    <tr>\n",
       "      <th>941</th>\n",
       "      <td>vid3</td>\n",
       "      <td>none</td>\n",
       "      <td>95042</td>\n",
       "      <td>95141</td>\n",
       "      <td>100</td>\n",
       "    </tr>\n",
       "    <tr>\n",
       "      <th>943</th>\n",
       "      <td>vid3</td>\n",
       "      <td>none</td>\n",
       "      <td>95246</td>\n",
       "      <td>95345</td>\n",
       "      <td>100</td>\n",
       "    </tr>\n",
       "    <tr>\n",
       "      <th>945</th>\n",
       "      <td>vid3</td>\n",
       "      <td>none</td>\n",
       "      <td>96681</td>\n",
       "      <td>96780</td>\n",
       "      <td>100</td>\n",
       "    </tr>\n",
       "    <tr>\n",
       "      <th>946</th>\n",
       "      <td>vid3</td>\n",
       "      <td>none</td>\n",
       "      <td>96824</td>\n",
       "      <td>96923</td>\n",
       "      <td>100</td>\n",
       "    </tr>\n",
       "    <tr>\n",
       "      <th>947</th>\n",
       "      <td>vid3</td>\n",
       "      <td>none</td>\n",
       "      <td>96926</td>\n",
       "      <td>97025</td>\n",
       "      <td>100</td>\n",
       "    </tr>\n",
       "    <tr>\n",
       "      <th>948</th>\n",
       "      <td>vid3</td>\n",
       "      <td>none</td>\n",
       "      <td>97028</td>\n",
       "      <td>97127</td>\n",
       "      <td>100</td>\n",
       "    </tr>\n",
       "    <tr>\n",
       "      <th>949</th>\n",
       "      <td>vid3</td>\n",
       "      <td>none</td>\n",
       "      <td>97130</td>\n",
       "      <td>97229</td>\n",
       "      <td>100</td>\n",
       "    </tr>\n",
       "    <tr>\n",
       "      <th>950</th>\n",
       "      <td>vid3</td>\n",
       "      <td>none</td>\n",
       "      <td>97232</td>\n",
       "      <td>97331</td>\n",
       "      <td>100</td>\n",
       "    </tr>\n",
       "    <tr>\n",
       "      <th>951</th>\n",
       "      <td>vid3</td>\n",
       "      <td>none</td>\n",
       "      <td>97334</td>\n",
       "      <td>97433</td>\n",
       "      <td>100</td>\n",
       "    </tr>\n",
       "    <tr>\n",
       "      <th>952</th>\n",
       "      <td>vid3</td>\n",
       "      <td>none</td>\n",
       "      <td>97855</td>\n",
       "      <td>97954</td>\n",
       "      <td>100</td>\n",
       "    </tr>\n",
       "    <tr>\n",
       "      <th>953</th>\n",
       "      <td>vid3</td>\n",
       "      <td>none</td>\n",
       "      <td>97957</td>\n",
       "      <td>98056</td>\n",
       "      <td>100</td>\n",
       "    </tr>\n",
       "  </tbody>\n",
       "</table>\n",
       "</div>"
      ],
      "text/plain": [
       "    VidInfo Action  StartFrame  EndFrame  Len\n",
       "921    vid3   none       87266     87365  100\n",
       "924    vid3   none       87838     87937  100\n",
       "927    vid3   none       88144     88243  100\n",
       "930    vid3   none       88959     89058  100\n",
       "934    vid3   none       94092     94191  100\n",
       "935    vid3   none       94194     94293  100\n",
       "937    vid3   none       94468     94567  100\n",
       "938    vid3   none       94736     94835  100\n",
       "940    vid3   none       94940     95039  100\n",
       "941    vid3   none       95042     95141  100\n",
       "943    vid3   none       95246     95345  100\n",
       "945    vid3   none       96681     96780  100\n",
       "946    vid3   none       96824     96923  100\n",
       "947    vid3   none       96926     97025  100\n",
       "948    vid3   none       97028     97127  100\n",
       "949    vid3   none       97130     97229  100\n",
       "950    vid3   none       97232     97331  100\n",
       "951    vid3   none       97334     97433  100\n",
       "952    vid3   none       97855     97954  100\n",
       "953    vid3   none       97957     98056  100"
      ]
     },
     "execution_count": 41,
     "metadata": {},
     "output_type": "execute_result"
    }
   ],
   "source": [
    "df2[df2.VidInfo == 'vid3'].tail(20)"
   ]
  },
  {
   "cell_type": "code",
   "execution_count": 42,
   "id": "a5123db2",
   "metadata": {},
   "outputs": [
    {
     "data": {
      "text/plain": [
       "Action\n",
       "pass      1500\n",
       "tackle     248\n",
       "goal       199\n",
       "save       154\n",
       "Name: count, dtype: int64"
      ]
     },
     "execution_count": 42,
     "metadata": {},
     "output_type": "execute_result"
    }
   ],
   "source": [
    "df.Action.value_counts()"
   ]
  },
  {
   "cell_type": "code",
   "execution_count": 43,
   "id": "39fa08a4",
   "metadata": {},
   "outputs": [
    {
     "data": {
      "text/html": [
       "<div>\n",
       "<style scoped>\n",
       "    .dataframe tbody tr th:only-of-type {\n",
       "        vertical-align: middle;\n",
       "    }\n",
       "\n",
       "    .dataframe tbody tr th {\n",
       "        vertical-align: top;\n",
       "    }\n",
       "\n",
       "    .dataframe thead th {\n",
       "        text-align: right;\n",
       "    }\n",
       "</style>\n",
       "<table border=\"1\" class=\"dataframe\">\n",
       "  <thead>\n",
       "    <tr style=\"text-align: right;\">\n",
       "      <th></th>\n",
       "      <th>VidInfo</th>\n",
       "      <th>Action</th>\n",
       "      <th>StartFrame</th>\n",
       "      <th>EndFrame</th>\n",
       "      <th>Len</th>\n",
       "    </tr>\n",
       "  </thead>\n",
       "  <tbody>\n",
       "    <tr>\n",
       "      <th>0</th>\n",
       "      <td>vid1</td>\n",
       "      <td>pass</td>\n",
       "      <td>347</td>\n",
       "      <td>370</td>\n",
       "      <td>24</td>\n",
       "    </tr>\n",
       "    <tr>\n",
       "      <th>1</th>\n",
       "      <td>vid1</td>\n",
       "      <td>goal</td>\n",
       "      <td>583</td>\n",
       "      <td>654</td>\n",
       "      <td>72</td>\n",
       "    </tr>\n",
       "    <tr>\n",
       "      <th>2</th>\n",
       "      <td>vid1</td>\n",
       "      <td>pass</td>\n",
       "      <td>1051</td>\n",
       "      <td>1096</td>\n",
       "      <td>46</td>\n",
       "    </tr>\n",
       "    <tr>\n",
       "      <th>3</th>\n",
       "      <td>vid1</td>\n",
       "      <td>pass</td>\n",
       "      <td>2748</td>\n",
       "      <td>2796</td>\n",
       "      <td>49</td>\n",
       "    </tr>\n",
       "    <tr>\n",
       "      <th>4</th>\n",
       "      <td>vid1</td>\n",
       "      <td>save</td>\n",
       "      <td>2972</td>\n",
       "      <td>2998</td>\n",
       "      <td>27</td>\n",
       "    </tr>\n",
       "    <tr>\n",
       "      <th>...</th>\n",
       "      <td>...</td>\n",
       "      <td>...</td>\n",
       "      <td>...</td>\n",
       "      <td>...</td>\n",
       "      <td>...</td>\n",
       "    </tr>\n",
       "    <tr>\n",
       "      <th>3599</th>\n",
       "      <td>yt3</td>\n",
       "      <td>none</td>\n",
       "      <td>67633</td>\n",
       "      <td>67732</td>\n",
       "      <td>100</td>\n",
       "    </tr>\n",
       "    <tr>\n",
       "      <th>3600</th>\n",
       "      <td>yt3</td>\n",
       "      <td>none</td>\n",
       "      <td>67735</td>\n",
       "      <td>67834</td>\n",
       "      <td>100</td>\n",
       "    </tr>\n",
       "    <tr>\n",
       "      <th>3601</th>\n",
       "      <td>yt3</td>\n",
       "      <td>none</td>\n",
       "      <td>68080</td>\n",
       "      <td>68179</td>\n",
       "      <td>100</td>\n",
       "    </tr>\n",
       "    <tr>\n",
       "      <th>3602</th>\n",
       "      <td>yt3</td>\n",
       "      <td>none</td>\n",
       "      <td>70433</td>\n",
       "      <td>70532</td>\n",
       "      <td>100</td>\n",
       "    </tr>\n",
       "    <tr>\n",
       "      <th>3603</th>\n",
       "      <td>yt3</td>\n",
       "      <td>none</td>\n",
       "      <td>70637</td>\n",
       "      <td>70736</td>\n",
       "      <td>100</td>\n",
       "    </tr>\n",
       "  </tbody>\n",
       "</table>\n",
       "<p>3604 rows × 5 columns</p>\n",
       "</div>"
      ],
      "text/plain": [
       "     VidInfo Action  StartFrame  EndFrame  Len\n",
       "0       vid1   pass         347       370   24\n",
       "1       vid1   goal         583       654   72\n",
       "2       vid1   pass        1051      1096   46\n",
       "3       vid1   pass        2748      2796   49\n",
       "4       vid1   save        2972      2998   27\n",
       "...      ...    ...         ...       ...  ...\n",
       "3599     yt3   none       67633     67732  100\n",
       "3600     yt3   none       67735     67834  100\n",
       "3601     yt3   none       68080     68179  100\n",
       "3602     yt3   none       70433     70532  100\n",
       "3603     yt3   none       70637     70736  100\n",
       "\n",
       "[3604 rows x 5 columns]"
      ]
     },
     "execution_count": 43,
     "metadata": {},
     "output_type": "execute_result"
    }
   ],
   "source": [
    "df3 = pd.concat([df, df2], ignore_index=True)\n",
    "df3"
   ]
  },
  {
   "cell_type": "code",
   "execution_count": 44,
   "id": "643c4912",
   "metadata": {},
   "outputs": [
    {
     "data": {
      "text/plain": [
       "Action\n",
       "none      1503\n",
       "pass      1500\n",
       "tackle     248\n",
       "goal       199\n",
       "save       154\n",
       "Name: count, dtype: int64"
      ]
     },
     "execution_count": 44,
     "metadata": {},
     "output_type": "execute_result"
    }
   ],
   "source": [
    "df3.Action.value_counts()"
   ]
  },
  {
   "cell_type": "code",
   "execution_count": 45,
   "id": "85519cec",
   "metadata": {},
   "outputs": [
    {
     "data": {
      "text/plain": [
       "VidInfo\n",
       "yt5     612\n",
       "yt2     578\n",
       "vid4    476\n",
       "yt1     406\n",
       "yt3     367\n",
       "vid5    337\n",
       "vid2    306\n",
       "vid1    262\n",
       "vid3    260\n",
       "Name: count, dtype: int64"
      ]
     },
     "execution_count": 45,
     "metadata": {},
     "output_type": "execute_result"
    }
   ],
   "source": [
    "df3.VidInfo.value_counts()"
   ]
  },
  {
   "cell_type": "code",
   "execution_count": 47,
   "id": "548c4cca",
   "metadata": {},
   "outputs": [
    {
     "data": {
      "text/html": [
       "<div>\n",
       "<style scoped>\n",
       "    .dataframe tbody tr th:only-of-type {\n",
       "        vertical-align: middle;\n",
       "    }\n",
       "\n",
       "    .dataframe tbody tr th {\n",
       "        vertical-align: top;\n",
       "    }\n",
       "\n",
       "    .dataframe thead th {\n",
       "        text-align: right;\n",
       "    }\n",
       "</style>\n",
       "<table border=\"1\" class=\"dataframe\">\n",
       "  <thead>\n",
       "    <tr style=\"text-align: right;\">\n",
       "      <th></th>\n",
       "      <th>VidInfo</th>\n",
       "      <th>Action</th>\n",
       "      <th>StartFrame</th>\n",
       "      <th>EndFrame</th>\n",
       "      <th>Len</th>\n",
       "    </tr>\n",
       "  </thead>\n",
       "  <tbody>\n",
       "    <tr>\n",
       "      <th>0</th>\n",
       "      <td>vid1</td>\n",
       "      <td>pass</td>\n",
       "      <td>347</td>\n",
       "      <td>370</td>\n",
       "      <td>24</td>\n",
       "    </tr>\n",
       "    <tr>\n",
       "      <th>1</th>\n",
       "      <td>vid1</td>\n",
       "      <td>goal</td>\n",
       "      <td>583</td>\n",
       "      <td>654</td>\n",
       "      <td>72</td>\n",
       "    </tr>\n",
       "    <tr>\n",
       "      <th>2</th>\n",
       "      <td>vid1</td>\n",
       "      <td>pass</td>\n",
       "      <td>1051</td>\n",
       "      <td>1096</td>\n",
       "      <td>46</td>\n",
       "    </tr>\n",
       "    <tr>\n",
       "      <th>3</th>\n",
       "      <td>vid1</td>\n",
       "      <td>pass</td>\n",
       "      <td>2748</td>\n",
       "      <td>2796</td>\n",
       "      <td>49</td>\n",
       "    </tr>\n",
       "    <tr>\n",
       "      <th>4</th>\n",
       "      <td>vid1</td>\n",
       "      <td>save</td>\n",
       "      <td>2972</td>\n",
       "      <td>2998</td>\n",
       "      <td>27</td>\n",
       "    </tr>\n",
       "  </tbody>\n",
       "</table>\n",
       "</div>"
      ],
      "text/plain": [
       "  VidInfo Action  StartFrame  EndFrame  Len\n",
       "0    vid1   pass         347       370   24\n",
       "1    vid1   goal         583       654   72\n",
       "2    vid1   pass        1051      1096   46\n",
       "3    vid1   pass        2748      2796   49\n",
       "4    vid1   save        2972      2998   27"
      ]
     },
     "execution_count": 47,
     "metadata": {},
     "output_type": "execute_result"
    }
   ],
   "source": [
    "df3.head()"
   ]
  },
  {
   "cell_type": "code",
   "execution_count": 43,
   "id": "917b3086",
   "metadata": {},
   "outputs": [
    {
     "name": "stdout",
     "output_type": "stream",
     "text": [
      "7960-goal\n",
      "7500-none\n",
      "7500-pass\n",
      "7700-save\n",
      "8680-tackle\n",
      "total length: 39340\n"
     ]
    }
   ],
   "source": [
    "import os\n",
    "\n",
    "num = 0\n",
    "dir = os.path.abspath('/home/kyrylo/dev/clips/clips_dataset')\n",
    "lst = ['goal', 'none', 'pass', 'save', 'tackle']\n",
    "for el in lst:\n",
    "    print(f\"{len(os.listdir(os.path.join(dir, el)))}-{el}\")\n",
    "    num += len(os.listdir(os.path.join(dir, el)))\n",
    "print(f\"total length: {num}\")"
   ]
  },
  {
   "cell_type": "code",
   "execution_count": 91,
   "id": "ed0364f0",
   "metadata": {},
   "outputs": [
    {
     "name": "stdout",
     "output_type": "stream",
     "text": [
      "39340 39340\n"
     ]
    }
   ],
   "source": [
    "import os\n",
    "\n",
    "dir = os.path.abspath('/home/kyrylo/dev/clips/clips_dataset')\n",
    "lst = ['goal', 'none', 'pass', 'save', 'tackle']\n",
    "X = []\n",
    "y = []\n",
    "\n",
    "for action_dir in lst:\n",
    "    path_to_vid = os.path.join(dir, action_dir)\n",
    "    for filename in os.listdir(path_to_vid):\n",
    "        X.append(f\"{dir.split('/')[-1]}/{action_dir}/{filename}\")\n",
    "        y.append(action_dir)\n",
    "\n",
    "print(len(X), len(y))"
   ]
  },
  {
   "cell_type": "code",
   "execution_count": 92,
   "id": "43739edd",
   "metadata": {},
   "outputs": [
    {
     "data": {
      "text/plain": [
       "('clips_dataset/save/vid4_save_id0459_41240-41339_5.mp4', 'save')"
      ]
     },
     "execution_count": 92,
     "metadata": {},
     "output_type": "execute_result"
    }
   ],
   "source": [
    "X[24001], y[24001]"
   ]
  },
  {
   "cell_type": "code",
   "execution_count": 93,
   "id": "042dc679",
   "metadata": {},
   "outputs": [
    {
     "name": "stdout",
     "output_type": "stream",
     "text": [
      "39340\n"
     ]
    }
   ],
   "source": [
    "num = 0\n",
    "for i in range(len(X)):\n",
    "    if X[i].split(\"/\")[1] == y[i]:\n",
    "        num += 1\n",
    "print(num)"
   ]
  },
  {
   "cell_type": "code",
   "execution_count": 95,
   "id": "d3be376b",
   "metadata": {},
   "outputs": [],
   "source": [
    "import pickle\n",
    "import os\n",
    "\n",
    "dir = os.path.join(os.getcwd(), 'action_recognition')\n",
    "\n",
    "with open(f\"{dir}/X.pickle\", \"wb\") as f:\n",
    "    pickle.dump(X, f, protocol=pickle.HIGHEST_PROTOCOL)\n",
    "\n",
    "with open(f\"{dir}/y.pickle\", \"wb\") as f:\n",
    "    pickle.dump(y, f, protocol=pickle.HIGHEST_PROTOCOL)\n"
   ]
  },
  {
   "cell_type": "code",
   "execution_count": 96,
   "id": "c5d118f4",
   "metadata": {},
   "outputs": [],
   "source": [
    "with open(f\"{dir}/X.pickle\", \"rb\") as f:\n",
    "    xnew = pickle.load(f)\n",
    "\n",
    "with open(f\"{dir}/y.pickle\", \"rb\") as f:\n",
    "    ynew = pickle.load(f)"
   ]
  },
  {
   "cell_type": "code",
   "execution_count": 97,
   "id": "f63a8f19",
   "metadata": {},
   "outputs": [
    {
     "name": "stdout",
     "output_type": "stream",
     "text": [
      "39340 39340\n"
     ]
    }
   ],
   "source": [
    "print(len(xnew), len(ynew))"
   ]
  },
  {
   "cell_type": "code",
   "execution_count": 98,
   "id": "7ee00960",
   "metadata": {},
   "outputs": [
    {
     "data": {
      "text/plain": [
       "39340"
      ]
     },
     "execution_count": 98,
     "metadata": {},
     "output_type": "execute_result"
    }
   ],
   "source": [
    "num = 0\n",
    "for i in range(len(xnew)):\n",
    "    if xnew[i].split('/')[1] == ynew[i]:\n",
    "        num += 1\n",
    "num"
   ]
  },
  {
   "cell_type": "code",
   "execution_count": 100,
   "id": "1824b5f6",
   "metadata": {},
   "outputs": [
    {
     "data": {
      "text/plain": [
       "'goal'"
      ]
     },
     "execution_count": 100,
     "metadata": {},
     "output_type": "execute_result"
    }
   ],
   "source": [
    "ynew[7]"
   ]
  },
  {
   "cell_type": "code",
   "execution_count": 102,
   "id": "11f44f7e",
   "metadata": {},
   "outputs": [
    {
     "name": "stdout",
     "output_type": "stream",
     "text": [
      "39340\n",
      "39340\n"
     ]
    }
   ],
   "source": [
    "print(len(X))\n",
    "print(len(y))"
   ]
  },
  {
   "cell_type": "code",
   "execution_count": 104,
   "id": "cab524c1",
   "metadata": {},
   "outputs": [
    {
     "data": {
      "text/plain": [
       "[1, 1, 1, 1, 1]"
      ]
     },
     "execution_count": 104,
     "metadata": {},
     "output_type": "execute_result"
    }
   ],
   "source": [
    "dict_ = {\"pass\": 0, \"goal\": 1, \"save\": 2, \"tackle\": 3, \"none\": 4}\n",
    "for i in range(len(y)):\n",
    "    label = y[i]\n",
    "    y[i] = dict_[label]\n",
    "y[:5]"
   ]
  },
  {
   "cell_type": "code",
   "execution_count": 105,
   "id": "9a7abbf6",
   "metadata": {},
   "outputs": [],
   "source": [
    "from sklearn.model_selection import train_test_split\n",
    "\n",
    "X_train, X_test, y_train, y_test = train_test_split(X, y, test_size=0.1, shuffle=True)"
   ]
  },
  {
   "cell_type": "code",
   "execution_count": 106,
   "id": "cfa42251",
   "metadata": {},
   "outputs": [
    {
     "name": "stdout",
     "output_type": "stream",
     "text": [
      "35406\n",
      "3934\n",
      "35406\n",
      "3934\n"
     ]
    }
   ],
   "source": [
    "print(len(X_train))\n",
    "print(len(X_test))\n",
    "print(len(y_train))\n",
    "print(len(y_test))"
   ]
  },
  {
   "cell_type": "code",
   "execution_count": 110,
   "id": "a59a7533",
   "metadata": {},
   "outputs": [
    {
     "name": "stdout",
     "output_type": "stream",
     "text": [
      "tackle-tackle\n",
      "goal-goal\n",
      "pass-pass\n",
      "goal-goal\n",
      "none-none\n",
      "pass-pass\n",
      "tackle-tackle\n",
      "none-none\n",
      "goal-goal\n",
      "pass-pass\n"
     ]
    }
   ],
   "source": [
    "dict_from = {0: \"pass\", 1: \"goal\", 2: \"save\", 3: \"tackle\", 4: \"none\"}\n",
    "for i in range(10):\n",
    "    print(f'{X_train[i].split(\"/\")[1]}-{dict_from[y_train[i]]}')"
   ]
  },
  {
   "cell_type": "code",
   "execution_count": 111,
   "id": "fb22fa90",
   "metadata": {},
   "outputs": [
    {
     "data": {
      "text/plain": [
       "'clips_dataset/goal/youtube_5_goal_id1468_4185-4284_0.mp4'"
      ]
     },
     "execution_count": 111,
     "metadata": {},
     "output_type": "execute_result"
    }
   ],
   "source": [
    "X_train[1]"
   ]
  },
  {
   "cell_type": "code",
   "execution_count": 122,
   "id": "4adebd47",
   "metadata": {},
   "outputs": [],
   "source": [
    "import os\n",
    "\n",
    "dir = \"/home/kyrylo/dev/clips\"\n",
    "with open('train.txt', 'w') as f:\n",
    "    for i in range(len(X_train)):\n",
    "        f.write(f\"{os.path.join(dir, X_train[i])} {y_train[i]}\\n\")\n",
    "\n",
    "with open('val.txt', 'w') as f:\n",
    "    for i in range(len(X_test)):\n",
    "        f.write(f\"{os.path.join(dir, X_test[i])} {y_test[i]}\\n\")"
   ]
  },
  {
   "cell_type": "code",
   "execution_count": 119,
   "id": "4eb971d8",
   "metadata": {},
   "outputs": [
    {
     "data": {
      "text/plain": [
       "3934"
      ]
     },
     "execution_count": 119,
     "metadata": {},
     "output_type": "execute_result"
    }
   ],
   "source": [
    "with open(\"clips/custom_data/val.txt\", \"r\") as read_file:\n",
    "        lines_train = read_file.readlines()\n",
    "\n",
    "lines_train = [l[:-1] for l in lines_train]\n",
    "len(lines_train)"
   ]
  },
  {
   "cell_type": "code",
   "execution_count": 120,
   "id": "5fd283aa",
   "metadata": {},
   "outputs": [
    {
     "data": {
      "text/plain": [
       "{0: 781, 1: 829, 2: 746, 3: 830, 4: 748}"
      ]
     },
     "execution_count": 120,
     "metadata": {},
     "output_type": "execute_result"
    }
   ],
   "source": [
    "train_Xs = {l.split(\" \")[0]: int(l.split(\" \")[1]) for l in lines_train}\n",
    "#val_Xs = {l.split(\" \")[0]: int(l.split(\" \")[1]) for l in lines_val}\n",
    "\n",
    "# Recalculate weights for new splits\n",
    "\n",
    "# For train split\n",
    "y_new = list(train_Xs.values())\n",
    "y_set = set(y_new)\n",
    "\n",
    "class_counts = {k: 0 for k in list(y_set)}\n",
    "for label in y_new:\n",
    "        class_counts[label] += 1\n",
    "class_counts"
   ]
  },
  {
   "cell_type": "code",
   "execution_count": null,
   "id": "debbc3e7",
   "metadata": {},
   "outputs": [],
   "source": [
    "d = {0: 6719, 1: 7131, 2: 6954, 3: 7850, 4: 6752}\n",
    "d2 = {0: 781, 1: 829, 2: 746, 3: 830, 4: 748}\n"
   ]
  }
 ],
 "metadata": {
  "kernelspec": {
   "display_name": ".venv",
   "language": "python",
   "name": "python3"
  },
  "language_info": {
   "codemirror_mode": {
    "name": "ipython",
    "version": 3
   },
   "file_extension": ".py",
   "mimetype": "text/x-python",
   "name": "python",
   "nbconvert_exporter": "python",
   "pygments_lexer": "ipython3",
   "version": "3.11.2"
  }
 },
 "nbformat": 4,
 "nbformat_minor": 5
}
