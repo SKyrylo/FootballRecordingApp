{
 "cells": [
  {
   "cell_type": "code",
   "execution_count": null,
   "id": "e04bd50e",
   "metadata": {},
   "outputs": [],
   "source": [
    "import os\n",
    "for "
   ]
  },
  {
   "cell_type": "code",
   "execution_count": 2,
   "id": "185698c4",
   "metadata": {},
   "outputs": [
    {
     "data": {
      "text/html": [
       "<video src=\"/home/kyrylo/dev/clips/clips_dataset/goal/vid1_goal_id0001_1.mp4\" controls  >\n",
       "      Your browser does not support the <code>video</code> element.\n",
       "    </video>"
      ],
      "text/plain": [
       "<IPython.core.display.Video object>"
      ]
     },
     "execution_count": 2,
     "metadata": {},
     "output_type": "execute_result"
    }
   ],
   "source": [
    "from IPython.display import Video\n",
    "Video(\"/home/kyrylo/dev/clips/clips_dataset/goal/vid1_goal_id0001_1.mp4\")"
   ]
  },
  {
   "cell_type": "code",
   "execution_count": 8,
   "id": "809b740e",
   "metadata": {},
   "outputs": [
    {
     "name": "stdout",
     "output_type": "stream",
     "text": [
      "Frame width: 1920\n",
      "Frame height: 1080\n"
     ]
    }
   ],
   "source": [
    "import cv2\n",
    "# Open the video file or capture device (use the file path or camera index)\n",
    "cap = cv2.VideoCapture('/home/kyrylo/dev/clips/clips_dataset/goal/vid2_goal_id0100_5.mp4')\n",
    "# Check if the video was opened successfully\n",
    "if not cap.isOpened():\n",
    "    print(\"Error: Couldn't open video\")\n",
    "else:\n",
    "    # Get the frame width and height\n",
    "    frame_width = int(cap.get(cv2.CAP_PROP_FRAME_WIDTH))\n",
    "    frame_height = int(cap.get(cv2.CAP_PROP_FRAME_HEIGHT))\n",
    "    print(f\"Frame width: {frame_width}\")\n",
    "    print(f\"Frame height: {frame_height}\")\n",
    "# Release the video capture object\n",
    "cap.release()"
   ]
  },
  {
   "cell_type": "code",
   "execution_count": 9,
   "id": "3d8f48a9",
   "metadata": {},
   "outputs": [
    {
     "name": "stdout",
     "output_type": "stream",
     "text": [
      "Frame width: 1920\n",
      "Frame height: 1080\n"
     ]
    }
   ],
   "source": [
    "import cv2\n",
    "# Open the video file or capture device (use the file path or camera index)\n",
    "cap = cv2.VideoCapture('/home/kyrylo/dev/clips/clips_dataset/goal/vid2_goal_id0100_5.mp4')\n",
    "# Check if the video was opened successfully\n",
    "if not cap.isOpened():\n",
    "    print(\"Error: Couldn't open video\")\n",
    "else:\n",
    "    # Get the frame width and height\n",
    "    frame_width = int(cap.get(cv2.CAP_PROP_FRAME_WIDTH))\n",
    "    frame_height = int(cap.get(cv2.CAP_PROP_FRAME_HEIGHT))\n",
    "    print(f\"Frame width: {frame_width}\")\n",
    "    print(f\"Frame height: {frame_height}\")\n",
    "# Release the video capture object\n",
    "cap.release()"
   ]
  }
 ],
 "metadata": {
  "kernelspec": {
   "display_name": ".venv",
   "language": "python",
   "name": "python3"
  },
  "language_info": {
   "codemirror_mode": {
    "name": "ipython",
    "version": 3
   },
   "file_extension": ".py",
   "mimetype": "text/x-python",
   "name": "python",
   "nbconvert_exporter": "python",
   "pygments_lexer": "ipython3",
   "version": "3.11.2"
  }
 },
 "nbformat": 4,
 "nbformat_minor": 5
}
